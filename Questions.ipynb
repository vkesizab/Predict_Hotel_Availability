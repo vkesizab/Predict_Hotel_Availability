{
 "cells": [
  {
   "cell_type": "markdown",
   "metadata": {
    "colab_type": "text",
    "id": "x_BkOtqBIKQz"
   },
   "source": [
    "# Data Science Challenge"
   ]
  },
  {
   "cell_type": "code",
   "execution_count": 2,
   "metadata": {
    "colab": {},
    "colab_type": "code",
    "id": "U_VthdACIKQ6"
   },
   "outputs": [],
   "source": [
    "# To install packages that are not installed by default, uncomment the last two lines \n",
    "# of this cell and replace <package list> with a list of necessary packages.\n",
    "# This will ensure the notebook has all the dependencies and works everywhere.\n",
    "\n",
    "#import sys\n",
    "#!{sys.executable} -m pip install <package list>"
   ]
  },
  {
   "cell_type": "code",
   "execution_count": 1,
   "metadata": {
    "colab": {},
    "colab_type": "code",
    "id": "VzGFUCCVIKRL"
   },
   "outputs": [],
   "source": [
    "#Libraries\n",
    "import pandas as pd\n",
    "pd.set_option(\"display.max_columns\", None)"
   ]
  },
  {
   "cell_type": "markdown",
   "metadata": {
    "colab_type": "text",
    "id": "TZ23KNY8IKRT"
   },
   "source": [
    "## Data Description"
   ]
  },
  {
   "cell_type": "markdown",
   "metadata": {
    "colab_type": "text",
    "id": "jWSkqquEIKRW"
   },
   "source": [
    "Column | Description\n",
    ":---|:---\n",
    "`id` | The unique ID assigned to every hotel.\n",
    "`region` | The region in which the hotel is located..\n",
    "`latitude` | The latitude of the hotel.\n",
    "`longitude` | The longitude of the hotel.\n",
    "`accommodation_type` | The type of accommodation offered by the hotel. For example: Private room, Entire house/apt, etc.\n",
    "`cost` | The cost of booking the hotel for one night. (in \\$\\$)\n",
    "`minimum_nights` | The minimum number of nights stay required.\n",
    "`number_of_reviews` | The number of reviews accumulated by the hotel.\n",
    "`reviews_per_month` | The average number of reviews received by the hotel per month.\n",
    "`owner_id` | The unique ID assigned to every owner. An owner can own multiple hotels.\n",
    "`owned_hotels` | The number of hotels owned by the owner.\n",
    "`yearly_availability` | It indicates if the hotel accepts bookings around the year. Values are 0 (not available for 365 days in a year) and 1 (available for 365 days in a year)."
   ]
  },
  {
   "cell_type": "markdown",
   "metadata": {
    "colab_type": "text",
    "id": "BWQqx7cSIKRX"
   },
   "source": [
    "## Data Wrangling & Visualization"
   ]
  },
  {
   "cell_type": "code",
   "execution_count": 4,
   "metadata": {
    "colab": {},
    "colab_type": "code",
    "id": "SsjL7tf7IKRc"
   },
   "outputs": [],
   "source": [
    "# Dataset is already loaded below\n",
    "data = pd.read_csv(\"train.csv\")"
   ]
  },
  {
   "cell_type": "code",
   "execution_count": 5,
   "metadata": {
    "colab": {},
    "colab_type": "code",
    "id": "kzuHtZEkIKRh",
    "outputId": "9d14832c-2eda-48eb-df41-548113a94a73"
   },
   "outputs": [
    {
     "data": {
      "text/html": [
       "<div>\n",
       "<style scoped>\n",
       "    .dataframe tbody tr th:only-of-type {\n",
       "        vertical-align: middle;\n",
       "    }\n",
       "\n",
       "    .dataframe tbody tr th {\n",
       "        vertical-align: top;\n",
       "    }\n",
       "\n",
       "    .dataframe thead th {\n",
       "        text-align: right;\n",
       "    }\n",
       "</style>\n",
       "<table border=\"1\" class=\"dataframe\">\n",
       "  <thead>\n",
       "    <tr style=\"text-align: right;\">\n",
       "      <th></th>\n",
       "      <th>id</th>\n",
       "      <th>region</th>\n",
       "      <th>latitude</th>\n",
       "      <th>longitude</th>\n",
       "      <th>accommodation_type</th>\n",
       "      <th>cost</th>\n",
       "      <th>minimum_nights</th>\n",
       "      <th>number_of_reviews</th>\n",
       "      <th>reviews_per_month</th>\n",
       "      <th>owner_id</th>\n",
       "      <th>owned_hotels</th>\n",
       "      <th>yearly_availability</th>\n",
       "    </tr>\n",
       "  </thead>\n",
       "  <tbody>\n",
       "    <tr>\n",
       "      <th>0</th>\n",
       "      <td>13232</td>\n",
       "      <td>Manhattan</td>\n",
       "      <td>40.71854</td>\n",
       "      <td>-74.00439</td>\n",
       "      <td>Entire home/apt</td>\n",
       "      <td>170</td>\n",
       "      <td>5</td>\n",
       "      <td>7</td>\n",
       "      <td>0.56</td>\n",
       "      <td>929983</td>\n",
       "      <td>1</td>\n",
       "      <td>0</td>\n",
       "    </tr>\n",
       "    <tr>\n",
       "      <th>1</th>\n",
       "      <td>246</td>\n",
       "      <td>Brooklyn</td>\n",
       "      <td>40.64446</td>\n",
       "      <td>-73.95030</td>\n",
       "      <td>Entire home/apt</td>\n",
       "      <td>65</td>\n",
       "      <td>3</td>\n",
       "      <td>238</td>\n",
       "      <td>2.30</td>\n",
       "      <td>281764</td>\n",
       "      <td>1</td>\n",
       "      <td>0</td>\n",
       "    </tr>\n",
       "    <tr>\n",
       "      <th>2</th>\n",
       "      <td>19091</td>\n",
       "      <td>Queens</td>\n",
       "      <td>40.78573</td>\n",
       "      <td>-73.81062</td>\n",
       "      <td>Private room</td>\n",
       "      <td>85</td>\n",
       "      <td>1</td>\n",
       "      <td>0</td>\n",
       "      <td>NaN</td>\n",
       "      <td>19923341</td>\n",
       "      <td>1</td>\n",
       "      <td>1</td>\n",
       "    </tr>\n",
       "    <tr>\n",
       "      <th>3</th>\n",
       "      <td>34305</td>\n",
       "      <td>Manhattan</td>\n",
       "      <td>40.73863</td>\n",
       "      <td>-73.98002</td>\n",
       "      <td>Private room</td>\n",
       "      <td>210</td>\n",
       "      <td>30</td>\n",
       "      <td>0</td>\n",
       "      <td>NaN</td>\n",
       "      <td>200380610</td>\n",
       "      <td>65</td>\n",
       "      <td>1</td>\n",
       "    </tr>\n",
       "    <tr>\n",
       "      <th>4</th>\n",
       "      <td>444</td>\n",
       "      <td>Manhattan</td>\n",
       "      <td>40.82426</td>\n",
       "      <td>-73.94630</td>\n",
       "      <td>Shared room</td>\n",
       "      <td>75</td>\n",
       "      <td>3</td>\n",
       "      <td>38</td>\n",
       "      <td>0.42</td>\n",
       "      <td>745069</td>\n",
       "      <td>3</td>\n",
       "      <td>1</td>\n",
       "    </tr>\n",
       "  </tbody>\n",
       "</table>\n",
       "</div>"
      ],
      "text/plain": [
       "      id     region  latitude  longitude accommodation_type  cost  \\\n",
       "0  13232  Manhattan  40.71854  -74.00439    Entire home/apt   170   \n",
       "1    246   Brooklyn  40.64446  -73.95030    Entire home/apt    65   \n",
       "2  19091     Queens  40.78573  -73.81062       Private room    85   \n",
       "3  34305  Manhattan  40.73863  -73.98002       Private room   210   \n",
       "4    444  Manhattan  40.82426  -73.94630        Shared room    75   \n",
       "\n",
       "   minimum_nights  number_of_reviews  reviews_per_month   owner_id  \\\n",
       "0               5                  7               0.56     929983   \n",
       "1               3                238               2.30     281764   \n",
       "2               1                  0                NaN   19923341   \n",
       "3              30                  0                NaN  200380610   \n",
       "4               3                 38               0.42     745069   \n",
       "\n",
       "   owned_hotels  yearly_availability  \n",
       "0             1                    0  \n",
       "1             1                    0  \n",
       "2             1                    1  \n",
       "3            65                    1  \n",
       "4             3                    1  "
      ]
     },
     "execution_count": 5,
     "metadata": {},
     "output_type": "execute_result"
    }
   ],
   "source": [
    "data.head()"
   ]
  },
  {
   "cell_type": "code",
   "execution_count": 6,
   "metadata": {
    "colab": {},
    "colab_type": "code",
    "id": "0mhMZRlBIKRu",
    "outputId": "0a669059-5528-4ec0-d64b-8231f6aadf45"
   },
   "outputs": [
    {
     "data": {
      "text/plain": [
       "Index(['id', 'region', 'latitude', 'longitude', 'accommodation_type', 'cost',\n",
       "       'minimum_nights', 'number_of_reviews', 'reviews_per_month', 'owner_id',\n",
       "       'owned_hotels', 'yearly_availability'],\n",
       "      dtype='object')"
      ]
     },
     "execution_count": 6,
     "metadata": {},
     "output_type": "execute_result"
    }
   ],
   "source": [
    "#Explore columns\n",
    "data.columns"
   ]
  },
  {
   "cell_type": "markdown",
   "metadata": {},
   "source": [
    "### Summary Statistics"
   ]
  },
  {
   "cell_type": "code",
   "execution_count": 7,
   "metadata": {
    "colab": {},
    "colab_type": "code",
    "id": "-SrTmyfJIKR1",
    "outputId": "12b270ca-8c3f-402b-d6c1-286c17e63fdd"
   },
   "outputs": [
    {
     "data": {
      "text/html": [
       "<div>\n",
       "<style scoped>\n",
       "    .dataframe tbody tr th:only-of-type {\n",
       "        vertical-align: middle;\n",
       "    }\n",
       "\n",
       "    .dataframe tbody tr th {\n",
       "        vertical-align: top;\n",
       "    }\n",
       "\n",
       "    .dataframe thead th {\n",
       "        text-align: right;\n",
       "    }\n",
       "</style>\n",
       "<table border=\"1\" class=\"dataframe\">\n",
       "  <thead>\n",
       "    <tr style=\"text-align: right;\">\n",
       "      <th></th>\n",
       "      <th>id</th>\n",
       "      <th>latitude</th>\n",
       "      <th>longitude</th>\n",
       "      <th>cost</th>\n",
       "      <th>minimum_nights</th>\n",
       "      <th>number_of_reviews</th>\n",
       "      <th>reviews_per_month</th>\n",
       "      <th>owner_id</th>\n",
       "      <th>owned_hotels</th>\n",
       "      <th>yearly_availability</th>\n",
       "    </tr>\n",
       "  </thead>\n",
       "  <tbody>\n",
       "    <tr>\n",
       "      <th>count</th>\n",
       "      <td>2870.000000</td>\n",
       "      <td>2870.000000</td>\n",
       "      <td>2870.000000</td>\n",
       "      <td>2870.000000</td>\n",
       "      <td>2870.000000</td>\n",
       "      <td>2870.000000</td>\n",
       "      <td>2194.000000</td>\n",
       "      <td>2.870000e+03</td>\n",
       "      <td>2870.000000</td>\n",
       "      <td>2870.000000</td>\n",
       "    </tr>\n",
       "    <tr>\n",
       "      <th>mean</th>\n",
       "      <td>26760.657143</td>\n",
       "      <td>40.731224</td>\n",
       "      <td>-73.950158</td>\n",
       "      <td>195.943206</td>\n",
       "      <td>11.530314</td>\n",
       "      <td>16.315331</td>\n",
       "      <td>1.157502</td>\n",
       "      <td>7.202195e+07</td>\n",
       "      <td>8.411498</td>\n",
       "      <td>0.498606</td>\n",
       "    </tr>\n",
       "    <tr>\n",
       "      <th>std</th>\n",
       "      <td>14140.930062</td>\n",
       "      <td>0.054942</td>\n",
       "      <td>0.049745</td>\n",
       "      <td>406.184714</td>\n",
       "      <td>37.972339</td>\n",
       "      <td>32.481722</td>\n",
       "      <td>1.355028</td>\n",
       "      <td>8.076516e+07</td>\n",
       "      <td>27.105522</td>\n",
       "      <td>0.500085</td>\n",
       "    </tr>\n",
       "    <tr>\n",
       "      <th>min</th>\n",
       "      <td>0.000000</td>\n",
       "      <td>40.507080</td>\n",
       "      <td>-74.242850</td>\n",
       "      <td>10.000000</td>\n",
       "      <td>1.000000</td>\n",
       "      <td>0.000000</td>\n",
       "      <td>0.010000</td>\n",
       "      <td>2.787000e+03</td>\n",
       "      <td>1.000000</td>\n",
       "      <td>0.000000</td>\n",
       "    </tr>\n",
       "    <tr>\n",
       "      <th>25%</th>\n",
       "      <td>15931.750000</td>\n",
       "      <td>40.692462</td>\n",
       "      <td>-73.984003</td>\n",
       "      <td>75.000000</td>\n",
       "      <td>1.000000</td>\n",
       "      <td>1.000000</td>\n",
       "      <td>0.240000</td>\n",
       "      <td>7.388002e+06</td>\n",
       "      <td>1.000000</td>\n",
       "      <td>0.000000</td>\n",
       "    </tr>\n",
       "    <tr>\n",
       "      <th>50%</th>\n",
       "      <td>28946.500000</td>\n",
       "      <td>40.728250</td>\n",
       "      <td>-73.956720</td>\n",
       "      <td>120.000000</td>\n",
       "      <td>3.000000</td>\n",
       "      <td>4.000000</td>\n",
       "      <td>0.650000</td>\n",
       "      <td>3.352708e+07</td>\n",
       "      <td>1.000000</td>\n",
       "      <td>0.000000</td>\n",
       "    </tr>\n",
       "    <tr>\n",
       "      <th>75%</th>\n",
       "      <td>38478.500000</td>\n",
       "      <td>40.762658</td>\n",
       "      <td>-73.934202</td>\n",
       "      <td>200.000000</td>\n",
       "      <td>6.000000</td>\n",
       "      <td>16.000000</td>\n",
       "      <td>1.530000</td>\n",
       "      <td>1.207625e+08</td>\n",
       "      <td>3.000000</td>\n",
       "      <td>1.000000</td>\n",
       "    </tr>\n",
       "    <tr>\n",
       "      <th>max</th>\n",
       "      <td>48893.000000</td>\n",
       "      <td>40.898730</td>\n",
       "      <td>-73.721730</td>\n",
       "      <td>9999.000000</td>\n",
       "      <td>999.000000</td>\n",
       "      <td>395.000000</td>\n",
       "      <td>10.370000</td>\n",
       "      <td>2.738123e+08</td>\n",
       "      <td>327.000000</td>\n",
       "      <td>1.000000</td>\n",
       "    </tr>\n",
       "  </tbody>\n",
       "</table>\n",
       "</div>"
      ],
      "text/plain": [
       "                 id     latitude    longitude         cost  minimum_nights  \\\n",
       "count   2870.000000  2870.000000  2870.000000  2870.000000     2870.000000   \n",
       "mean   26760.657143    40.731224   -73.950158   195.943206       11.530314   \n",
       "std    14140.930062     0.054942     0.049745   406.184714       37.972339   \n",
       "min        0.000000    40.507080   -74.242850    10.000000        1.000000   \n",
       "25%    15931.750000    40.692462   -73.984003    75.000000        1.000000   \n",
       "50%    28946.500000    40.728250   -73.956720   120.000000        3.000000   \n",
       "75%    38478.500000    40.762658   -73.934202   200.000000        6.000000   \n",
       "max    48893.000000    40.898730   -73.721730  9999.000000      999.000000   \n",
       "\n",
       "       number_of_reviews  reviews_per_month      owner_id  owned_hotels  \\\n",
       "count        2870.000000        2194.000000  2.870000e+03   2870.000000   \n",
       "mean           16.315331           1.157502  7.202195e+07      8.411498   \n",
       "std            32.481722           1.355028  8.076516e+07     27.105522   \n",
       "min             0.000000           0.010000  2.787000e+03      1.000000   \n",
       "25%             1.000000           0.240000  7.388002e+06      1.000000   \n",
       "50%             4.000000           0.650000  3.352708e+07      1.000000   \n",
       "75%            16.000000           1.530000  1.207625e+08      3.000000   \n",
       "max           395.000000          10.370000  2.738123e+08    327.000000   \n",
       "\n",
       "       yearly_availability  \n",
       "count          2870.000000  \n",
       "mean              0.498606  \n",
       "std               0.500085  \n",
       "min               0.000000  \n",
       "25%               0.000000  \n",
       "50%               0.000000  \n",
       "75%               1.000000  \n",
       "max               1.000000  "
      ]
     },
     "execution_count": 7,
     "metadata": {},
     "output_type": "execute_result"
    }
   ],
   "source": [
    "#Description\n",
    "data.describe()"
   ]
  },
  {
   "cell_type": "markdown",
   "metadata": {
    "colab": {},
    "colab_type": "code",
    "id": "Vel-7S7gIKR9"
   },
   "source": [
    "##### Data types"
   ]
  },
  {
   "cell_type": "code",
   "execution_count": 8,
   "metadata": {
    "colab": {},
    "colab_type": "code",
    "id": "fp1nvdh-IKSE"
   },
   "outputs": [
    {
     "data": {
      "text/plain": [
       "id                       int64\n",
       "region                  object\n",
       "latitude               float64\n",
       "longitude              float64\n",
       "accommodation_type      object\n",
       "cost                     int64\n",
       "minimum_nights           int64\n",
       "number_of_reviews        int64\n",
       "reviews_per_month      float64\n",
       "owner_id                 int64\n",
       "owned_hotels             int64\n",
       "yearly_availability      int64\n",
       "dtype: object"
      ]
     },
     "execution_count": 8,
     "metadata": {},
     "output_type": "execute_result"
    }
   ],
   "source": [
    "# Data types for each column / feature\n",
    "data.dtypes"
   ]
  },
  {
   "cell_type": "markdown",
   "metadata": {
    "colab": {},
    "colab_type": "code",
    "id": "px5KNTQ7IKSK"
   },
   "source": [
    "#### Check for missing data"
   ]
  },
  {
   "cell_type": "code",
   "execution_count": 9,
   "metadata": {},
   "outputs": [
    {
     "data": {
      "text/plain": [
       "id                       0\n",
       "region                   0\n",
       "latitude                 0\n",
       "longitude                0\n",
       "accommodation_type       0\n",
       "cost                     0\n",
       "minimum_nights           0\n",
       "number_of_reviews        0\n",
       "reviews_per_month      676\n",
       "owner_id                 0\n",
       "owned_hotels             0\n",
       "yearly_availability      0\n",
       "dtype: int64"
      ]
     },
     "execution_count": 9,
     "metadata": {},
     "output_type": "execute_result"
    }
   ],
   "source": [
    "# Checking whether there are nulls (\"missing data\") in the columns\n",
    "data.isnull().sum(axis=0)"
   ]
  },
  {
   "cell_type": "markdown",
   "metadata": {},
   "source": [
    "**Comment**: The feature \"reviews_per_month\" has 676 null variables. In addition, the feature \"number_of_reviews\" does not have missing values. Furthermore, the nulls only exist in cases where there have been \"0\" (zero) number_of_reviews e.g. if there are no reviews at all for a hotel then there won't be an average number of reviews per month either. Subsequently, dropping 676 observations would result in significant loss of data since none of the other rows have missing values. Thus, we replace the null values with 0 for the reviews per month."
   ]
  },
  {
   "cell_type": "code",
   "execution_count": 42,
   "metadata": {},
   "outputs": [],
   "source": [
    "# replace null values with 0\n",
    "data.reviews_per_month = data.reviews_per_month.fillna(0)"
   ]
  },
  {
   "cell_type": "markdown",
   "metadata": {},
   "source": [
    "##### One-hot Encode the Categorical Data:"
   ]
  },
  {
   "cell_type": "markdown",
   "metadata": {},
   "source": [
    "We convert the categorical feature columns to seprate columns witch take a value of 0 and 1. We drop for each categorical variable column in order to avoid multicollinearity, which reduces the predictive performance of a model."
   ]
  },
  {
   "cell_type": "code",
   "execution_count": 43,
   "metadata": {},
   "outputs": [],
   "source": [
    "# One-hot Encode the Categorical Data\n",
    "data = pd.get_dummies(data, drop_first = True)"
   ]
  },
  {
   "cell_type": "code",
   "execution_count": 44,
   "metadata": {},
   "outputs": [
    {
     "data": {
      "text/html": [
       "<div>\n",
       "<style scoped>\n",
       "    .dataframe tbody tr th:only-of-type {\n",
       "        vertical-align: middle;\n",
       "    }\n",
       "\n",
       "    .dataframe tbody tr th {\n",
       "        vertical-align: top;\n",
       "    }\n",
       "\n",
       "    .dataframe thead th {\n",
       "        text-align: right;\n",
       "    }\n",
       "</style>\n",
       "<table border=\"1\" class=\"dataframe\">\n",
       "  <thead>\n",
       "    <tr style=\"text-align: right;\">\n",
       "      <th></th>\n",
       "      <th>id</th>\n",
       "      <th>latitude</th>\n",
       "      <th>longitude</th>\n",
       "      <th>cost</th>\n",
       "      <th>minimum_nights</th>\n",
       "      <th>number_of_reviews</th>\n",
       "      <th>reviews_per_month</th>\n",
       "      <th>owner_id</th>\n",
       "      <th>owned_hotels</th>\n",
       "      <th>yearly_availability</th>\n",
       "      <th>region_Brooklyn</th>\n",
       "      <th>region_Manhattan</th>\n",
       "      <th>region_Queens</th>\n",
       "      <th>region_Staten Island</th>\n",
       "      <th>accommodation_type_Private room</th>\n",
       "      <th>accommodation_type_Shared room</th>\n",
       "    </tr>\n",
       "  </thead>\n",
       "  <tbody>\n",
       "    <tr>\n",
       "      <th>0</th>\n",
       "      <td>13232</td>\n",
       "      <td>40.71854</td>\n",
       "      <td>-74.00439</td>\n",
       "      <td>170</td>\n",
       "      <td>5</td>\n",
       "      <td>7</td>\n",
       "      <td>0.56</td>\n",
       "      <td>929983</td>\n",
       "      <td>1</td>\n",
       "      <td>0</td>\n",
       "      <td>0</td>\n",
       "      <td>1</td>\n",
       "      <td>0</td>\n",
       "      <td>0</td>\n",
       "      <td>0</td>\n",
       "      <td>0</td>\n",
       "    </tr>\n",
       "    <tr>\n",
       "      <th>1</th>\n",
       "      <td>246</td>\n",
       "      <td>40.64446</td>\n",
       "      <td>-73.95030</td>\n",
       "      <td>65</td>\n",
       "      <td>3</td>\n",
       "      <td>238</td>\n",
       "      <td>2.30</td>\n",
       "      <td>281764</td>\n",
       "      <td>1</td>\n",
       "      <td>0</td>\n",
       "      <td>1</td>\n",
       "      <td>0</td>\n",
       "      <td>0</td>\n",
       "      <td>0</td>\n",
       "      <td>0</td>\n",
       "      <td>0</td>\n",
       "    </tr>\n",
       "    <tr>\n",
       "      <th>2</th>\n",
       "      <td>19091</td>\n",
       "      <td>40.78573</td>\n",
       "      <td>-73.81062</td>\n",
       "      <td>85</td>\n",
       "      <td>1</td>\n",
       "      <td>0</td>\n",
       "      <td>0.00</td>\n",
       "      <td>19923341</td>\n",
       "      <td>1</td>\n",
       "      <td>1</td>\n",
       "      <td>0</td>\n",
       "      <td>0</td>\n",
       "      <td>1</td>\n",
       "      <td>0</td>\n",
       "      <td>1</td>\n",
       "      <td>0</td>\n",
       "    </tr>\n",
       "    <tr>\n",
       "      <th>3</th>\n",
       "      <td>34305</td>\n",
       "      <td>40.73863</td>\n",
       "      <td>-73.98002</td>\n",
       "      <td>210</td>\n",
       "      <td>30</td>\n",
       "      <td>0</td>\n",
       "      <td>0.00</td>\n",
       "      <td>200380610</td>\n",
       "      <td>65</td>\n",
       "      <td>1</td>\n",
       "      <td>0</td>\n",
       "      <td>1</td>\n",
       "      <td>0</td>\n",
       "      <td>0</td>\n",
       "      <td>1</td>\n",
       "      <td>0</td>\n",
       "    </tr>\n",
       "    <tr>\n",
       "      <th>4</th>\n",
       "      <td>444</td>\n",
       "      <td>40.82426</td>\n",
       "      <td>-73.94630</td>\n",
       "      <td>75</td>\n",
       "      <td>3</td>\n",
       "      <td>38</td>\n",
       "      <td>0.42</td>\n",
       "      <td>745069</td>\n",
       "      <td>3</td>\n",
       "      <td>1</td>\n",
       "      <td>0</td>\n",
       "      <td>1</td>\n",
       "      <td>0</td>\n",
       "      <td>0</td>\n",
       "      <td>0</td>\n",
       "      <td>1</td>\n",
       "    </tr>\n",
       "  </tbody>\n",
       "</table>\n",
       "</div>"
      ],
      "text/plain": [
       "      id  latitude  longitude  cost  minimum_nights  number_of_reviews  \\\n",
       "0  13232  40.71854  -74.00439   170               5                  7   \n",
       "1    246  40.64446  -73.95030    65               3                238   \n",
       "2  19091  40.78573  -73.81062    85               1                  0   \n",
       "3  34305  40.73863  -73.98002   210              30                  0   \n",
       "4    444  40.82426  -73.94630    75               3                 38   \n",
       "\n",
       "   reviews_per_month   owner_id  owned_hotels  yearly_availability  \\\n",
       "0               0.56     929983             1                    0   \n",
       "1               2.30     281764             1                    0   \n",
       "2               0.00   19923341             1                    1   \n",
       "3               0.00  200380610            65                    1   \n",
       "4               0.42     745069             3                    1   \n",
       "\n",
       "   region_Brooklyn  region_Manhattan  region_Queens  region_Staten Island  \\\n",
       "0                0                 1              0                     0   \n",
       "1                1                 0              0                     0   \n",
       "2                0                 0              1                     0   \n",
       "3                0                 1              0                     0   \n",
       "4                0                 1              0                     0   \n",
       "\n",
       "   accommodation_type_Private room  accommodation_type_Shared room  \n",
       "0                                0                               0  \n",
       "1                                0                               0  \n",
       "2                                1                               0  \n",
       "3                                1                               0  \n",
       "4                                0                               1  "
      ]
     },
     "execution_count": 44,
     "metadata": {},
     "output_type": "execute_result"
    }
   ],
   "source": [
    "data.head()"
   ]
  },
  {
   "cell_type": "code",
   "execution_count": 91,
   "metadata": {},
   "outputs": [
    {
     "data": {
      "text/plain": [
       "<Figure size 432x288 with 0 Axes>"
      ]
     },
     "metadata": {},
     "output_type": "display_data"
    },
    {
     "data": {
      "image/png": "[encoded data removed]",
      "text/plain": [
       "<Figure size 432x288 with 1 Axes>"
      ]
     },
     "metadata": {
      "needs_background": "light"
     },
     "output_type": "display_data"
    }
   ],
   "source": [
    "plt.figure()\n",
    "data[[\"number_of_reviews\"]].plot.hist(alpha=0.5);"
   ]
  },
  {
   "cell_type": "code",
   "execution_count": 90,
   "metadata": {},
   "outputs": [
    {
     "data": {
      "text/plain": [
       "<matplotlib.axes._subplots.AxesSubplot at 0x7f908a349a50>"
      ]
     },
     "execution_count": 90,
     "metadata": {},
     "output_type": "execute_result"
    },
    {
     "data": {
      "text/plain": [
       "<Figure size 432x288 with 0 Axes>"
      ]
     },
     "metadata": {},
     "output_type": "display_data"
    },
    {
     "data": {
      "image/png": "[encoded data removed]",
      "text/plain": [
       "<Figure size 432x288 with 1 Axes>"
      ]
     },
     "metadata": {
      "needs_background": "light"
     },
     "output_type": "display_data"
    }
   ],
   "source": [
    "plt.figure()\n",
    "data[[\"cost\"]].plot.area(stacked=False)"
   ]
  },
  {
   "cell_type": "code",
   "execution_count": 92,
   "metadata": {},
   "outputs": [
    {
     "data": {
      "image/png": "[encoded data removed]",
      "text/plain": [
       "<Figure size 432x288 with 1 Axes>"
      ]
     },
     "metadata": {
      "needs_background": "light"
     },
     "output_type": "display_data"
    }
   ],
   "source": [
    "data.plot.scatter(x=\"number_of_reviews\", y=\"reviews_per_month\");"
   ]
  },
  {
   "cell_type": "code",
   "execution_count": 94,
   "metadata": {},
   "outputs": [
    {
     "data": {
      "text/plain": [
       "<matplotlib.axes._subplots.AxesSubplot at 0x7f90897f0a90>"
      ]
     },
     "execution_count": 94,
     "metadata": {},
     "output_type": "execute_result"
    },
    {
     "data": {
      "image/png": "[encoded data removed]",
      "text/plain": [
       "<Figure size 432x288 with 1 Axes>"
      ]
     },
     "metadata": {
      "needs_background": "light"
     },
     "output_type": "display_data"
    }
   ],
   "source": [
    "sns.stripplot(x=\"yearly_availability\", y=\"reviews_per_month\", data=data) "
   ]
  },
  {
   "cell_type": "code",
   "execution_count": 95,
   "metadata": {},
   "outputs": [
    {
     "data": {
      "text/plain": [
       "<matplotlib.axes._subplots.AxesSubplot at 0x7f90898aec50>"
      ]
     },
     "execution_count": 95,
     "metadata": {},
     "output_type": "execute_result"
    },
    {
     "data": {
      "image/png": "[encoded data removed]",
      "text/plain": [
       "<Figure size 432x288 with 1 Axes>"
      ]
     },
     "metadata": {
      "needs_background": "light"
     },
     "output_type": "display_data"
    }
   ],
   "source": [
    "sns.stripplot(x=\"yearly_availability\", y=\"number_of_reviews\", data=data) "
   ]
  },
  {
   "cell_type": "markdown",
   "metadata": {
    "colab_type": "text",
    "id": "ymsdDaIPIKSX"
   },
   "source": [
    "## Visualization, Modeling, Machine Learning\n",
    "\n",
    "Build a model that categorizes hotels on the basis of their yearly availability.  Identify how different features influence the decision. Please explain the findings effectively to technical and non-technical audiences using comments and visualizations, if appropriate.\n",
    "- **Build an optimized model that effectively solves the business problem.**\n",
    "- **The model will be evaluated on the basis of Accuracy.**\n",
    "- **Read the test.csv file and prepare features for testing.**"
   ]
  },
  {
   "cell_type": "code",
   "execution_count": 45,
   "metadata": {},
   "outputs": [],
   "source": [
    "## Change the name of the data to training data\n",
    "train_data=data"
   ]
  },
  {
   "cell_type": "markdown",
   "metadata": {},
   "source": [
    "##### We assess the correlation between the features in the original training data. \n",
    "- First, we generate the correlation matrix between all the features."
   ]
  },
  {
   "cell_type": "code",
   "execution_count": 46,
   "metadata": {},
   "outputs": [
    {
     "data": {
      "text/html": [
       "<div>\n",
       "<style scoped>\n",
       "    .dataframe tbody tr th:only-of-type {\n",
       "        vertical-align: middle;\n",
       "    }\n",
       "\n",
       "    .dataframe tbody tr th {\n",
       "        vertical-align: top;\n",
       "    }\n",
       "\n",
       "    .dataframe thead th {\n",
       "        text-align: right;\n",
       "    }\n",
       "</style>\n",
       "<table border=\"1\" class=\"dataframe\">\n",
       "  <thead>\n",
       "    <tr style=\"text-align: right;\">\n",
       "      <th></th>\n",
       "      <th>id</th>\n",
       "      <th>latitude</th>\n",
       "      <th>longitude</th>\n",
       "      <th>cost</th>\n",
       "      <th>minimum_nights</th>\n",
       "      <th>number_of_reviews</th>\n",
       "      <th>reviews_per_month</th>\n",
       "      <th>owner_id</th>\n",
       "      <th>owned_hotels</th>\n",
       "      <th>yearly_availability</th>\n",
       "      <th>region_Brooklyn</th>\n",
       "      <th>region_Manhattan</th>\n",
       "      <th>region_Queens</th>\n",
       "      <th>region_Staten Island</th>\n",
       "      <th>accommodation_type_Private room</th>\n",
       "      <th>accommodation_type_Shared room</th>\n",
       "    </tr>\n",
       "  </thead>\n",
       "  <tbody>\n",
       "    <tr>\n",
       "      <th>id</th>\n",
       "      <td>1.000000</td>\n",
       "      <td>-0.016030</td>\n",
       "      <td>0.059679</td>\n",
       "      <td>-0.036814</td>\n",
       "      <td>-0.078409</td>\n",
       "      <td>-0.330155</td>\n",
       "      <td>0.145984</td>\n",
       "      <td>0.523565</td>\n",
       "      <td>0.025907</td>\n",
       "      <td>-0.161629</td>\n",
       "      <td>-0.031877</td>\n",
       "      <td>-0.011724</td>\n",
       "      <td>0.055043</td>\n",
       "      <td>-0.001372</td>\n",
       "      <td>-0.107070</td>\n",
       "      <td>0.150788</td>\n",
       "    </tr>\n",
       "    <tr>\n",
       "      <th>latitude</th>\n",
       "      <td>-0.016030</td>\n",
       "      <td>1.000000</td>\n",
       "      <td>0.049337</td>\n",
       "      <td>0.009657</td>\n",
       "      <td>0.010614</td>\n",
       "      <td>0.006295</td>\n",
       "      <td>0.015358</td>\n",
       "      <td>-0.009361</td>\n",
       "      <td>0.064103</td>\n",
       "      <td>-0.025119</td>\n",
       "      <td>-0.678672</td>\n",
       "      <td>0.575303</td>\n",
       "      <td>-0.013750</td>\n",
       "      <td>-0.159718</td>\n",
       "      <td>0.000188</td>\n",
       "      <td>-0.005122</td>\n",
       "    </tr>\n",
       "    <tr>\n",
       "      <th>longitude</th>\n",
       "      <td>0.059679</td>\n",
       "      <td>0.049337</td>\n",
       "      <td>1.000000</td>\n",
       "      <td>-0.136140</td>\n",
       "      <td>-0.074862</td>\n",
       "      <td>0.006381</td>\n",
       "      <td>0.052653</td>\n",
       "      <td>0.142912</td>\n",
       "      <td>-0.142529</td>\n",
       "      <td>0.119882</td>\n",
       "      <td>-0.004712</td>\n",
       "      <td>-0.474424</td>\n",
       "      <td>0.651172</td>\n",
       "      <td>-0.248123</td>\n",
       "      <td>0.048603</td>\n",
       "      <td>0.013993</td>\n",
       "    </tr>\n",
       "    <tr>\n",
       "      <th>cost</th>\n",
       "      <td>-0.036814</td>\n",
       "      <td>0.009657</td>\n",
       "      <td>-0.136140</td>\n",
       "      <td>1.000000</td>\n",
       "      <td>0.052918</td>\n",
       "      <td>-0.074432</td>\n",
       "      <td>-0.123086</td>\n",
       "      <td>-0.049586</td>\n",
       "      <td>0.032185</td>\n",
       "      <td>0.147576</td>\n",
       "      <td>-0.084543</td>\n",
       "      <td>0.141398</td>\n",
       "      <td>-0.066359</td>\n",
       "      <td>0.003322</td>\n",
       "      <td>0.126273</td>\n",
       "      <td>-0.020195</td>\n",
       "    </tr>\n",
       "    <tr>\n",
       "      <th>minimum_nights</th>\n",
       "      <td>-0.078409</td>\n",
       "      <td>0.010614</td>\n",
       "      <td>-0.074862</td>\n",
       "      <td>0.052918</td>\n",
       "      <td>1.000000</td>\n",
       "      <td>-0.088767</td>\n",
       "      <td>-0.139803</td>\n",
       "      <td>-0.018005</td>\n",
       "      <td>0.107893</td>\n",
       "      <td>0.173550</td>\n",
       "      <td>-0.045813</td>\n",
       "      <td>0.071547</td>\n",
       "      <td>-0.026489</td>\n",
       "      <td>-0.006379</td>\n",
       "      <td>0.166778</td>\n",
       "      <td>-0.049767</td>\n",
       "    </tr>\n",
       "    <tr>\n",
       "      <th>number_of_reviews</th>\n",
       "      <td>-0.330155</td>\n",
       "      <td>0.006295</td>\n",
       "      <td>0.006381</td>\n",
       "      <td>-0.074432</td>\n",
       "      <td>-0.088767</td>\n",
       "      <td>1.000000</td>\n",
       "      <td>0.576553</td>\n",
       "      <td>-0.161979</td>\n",
       "      <td>-0.112328</td>\n",
       "      <td>-0.191645</td>\n",
       "      <td>0.053843</td>\n",
       "      <td>-0.032103</td>\n",
       "      <td>-0.026691</td>\n",
       "      <td>-0.028090</td>\n",
       "      <td>-0.177441</td>\n",
       "      <td>-0.082181</td>\n",
       "    </tr>\n",
       "    <tr>\n",
       "      <th>reviews_per_month</th>\n",
       "      <td>0.145984</td>\n",
       "      <td>0.015358</td>\n",
       "      <td>0.052653</td>\n",
       "      <td>-0.123086</td>\n",
       "      <td>-0.139803</td>\n",
       "      <td>0.576553</td>\n",
       "      <td>1.000000</td>\n",
       "      <td>0.077579</td>\n",
       "      <td>-0.147011</td>\n",
       "      <td>-0.312213</td>\n",
       "      <td>0.021694</td>\n",
       "      <td>-0.042358</td>\n",
       "      <td>0.022218</td>\n",
       "      <td>-0.007715</td>\n",
       "      <td>-0.300600</td>\n",
       "      <td>-0.010960</td>\n",
       "    </tr>\n",
       "    <tr>\n",
       "      <th>owner_id</th>\n",
       "      <td>0.523565</td>\n",
       "      <td>-0.009361</td>\n",
       "      <td>0.142912</td>\n",
       "      <td>-0.049586</td>\n",
       "      <td>-0.018005</td>\n",
       "      <td>-0.161979</td>\n",
       "      <td>0.077579</td>\n",
       "      <td>1.000000</td>\n",
       "      <td>0.074535</td>\n",
       "      <td>0.121234</td>\n",
       "      <td>-0.064757</td>\n",
       "      <td>-0.046818</td>\n",
       "      <td>0.129014</td>\n",
       "      <td>0.032356</td>\n",
       "      <td>0.078203</td>\n",
       "      <td>0.035398</td>\n",
       "    </tr>\n",
       "    <tr>\n",
       "      <th>owned_hotels</th>\n",
       "      <td>0.025907</td>\n",
       "      <td>0.064103</td>\n",
       "      <td>-0.142529</td>\n",
       "      <td>0.032185</td>\n",
       "      <td>0.107893</td>\n",
       "      <td>-0.112328</td>\n",
       "      <td>-0.147011</td>\n",
       "      <td>0.074535</td>\n",
       "      <td>1.000000</td>\n",
       "      <td>0.191906</td>\n",
       "      <td>-0.156839</td>\n",
       "      <td>0.209776</td>\n",
       "      <td>-0.064695</td>\n",
       "      <td>-0.017487</td>\n",
       "      <td>0.138570</td>\n",
       "      <td>-0.048646</td>\n",
       "    </tr>\n",
       "    <tr>\n",
       "      <th>yearly_availability</th>\n",
       "      <td>-0.161629</td>\n",
       "      <td>-0.025119</td>\n",
       "      <td>0.119882</td>\n",
       "      <td>0.147576</td>\n",
       "      <td>0.173550</td>\n",
       "      <td>-0.191645</td>\n",
       "      <td>-0.312213</td>\n",
       "      <td>0.121234</td>\n",
       "      <td>0.191906</td>\n",
       "      <td>1.000000</td>\n",
       "      <td>-0.079190</td>\n",
       "      <td>-0.019062</td>\n",
       "      <td>0.094650</td>\n",
       "      <td>0.050205</td>\n",
       "      <td>0.690654</td>\n",
       "      <td>-0.081234</td>\n",
       "    </tr>\n",
       "    <tr>\n",
       "      <th>region_Brooklyn</th>\n",
       "      <td>-0.031877</td>\n",
       "      <td>-0.678672</td>\n",
       "      <td>-0.004712</td>\n",
       "      <td>-0.084543</td>\n",
       "      <td>-0.045813</td>\n",
       "      <td>0.053843</td>\n",
       "      <td>0.021694</td>\n",
       "      <td>-0.064757</td>\n",
       "      <td>-0.156839</td>\n",
       "      <td>-0.079190</td>\n",
       "      <td>1.000000</td>\n",
       "      <td>-0.720693</td>\n",
       "      <td>-0.297716</td>\n",
       "      <td>-0.054182</td>\n",
       "      <td>-0.092917</td>\n",
       "      <td>0.029619</td>\n",
       "    </tr>\n",
       "    <tr>\n",
       "      <th>region_Manhattan</th>\n",
       "      <td>-0.011724</td>\n",
       "      <td>0.575303</td>\n",
       "      <td>-0.474424</td>\n",
       "      <td>0.141398</td>\n",
       "      <td>0.071547</td>\n",
       "      <td>-0.032103</td>\n",
       "      <td>-0.042358</td>\n",
       "      <td>-0.046818</td>\n",
       "      <td>0.209776</td>\n",
       "      <td>-0.019062</td>\n",
       "      <td>-0.720693</td>\n",
       "      <td>1.000000</td>\n",
       "      <td>-0.358269</td>\n",
       "      <td>-0.065202</td>\n",
       "      <td>0.031126</td>\n",
       "      <td>-0.024543</td>\n",
       "    </tr>\n",
       "    <tr>\n",
       "      <th>region_Queens</th>\n",
       "      <td>0.055043</td>\n",
       "      <td>-0.013750</td>\n",
       "      <td>0.651172</td>\n",
       "      <td>-0.066359</td>\n",
       "      <td>-0.026489</td>\n",
       "      <td>-0.026691</td>\n",
       "      <td>0.022218</td>\n",
       "      <td>0.129014</td>\n",
       "      <td>-0.064695</td>\n",
       "      <td>0.094650</td>\n",
       "      <td>-0.297716</td>\n",
       "      <td>-0.358269</td>\n",
       "      <td>1.000000</td>\n",
       "      <td>-0.026935</td>\n",
       "      <td>0.048503</td>\n",
       "      <td>0.015223</td>\n",
       "    </tr>\n",
       "    <tr>\n",
       "      <th>region_Staten Island</th>\n",
       "      <td>-0.001372</td>\n",
       "      <td>-0.159718</td>\n",
       "      <td>-0.248123</td>\n",
       "      <td>0.003322</td>\n",
       "      <td>-0.006379</td>\n",
       "      <td>-0.028090</td>\n",
       "      <td>-0.007715</td>\n",
       "      <td>0.032356</td>\n",
       "      <td>-0.017487</td>\n",
       "      <td>0.050205</td>\n",
       "      <td>-0.054182</td>\n",
       "      <td>-0.065202</td>\n",
       "      <td>-0.026935</td>\n",
       "      <td>1.000000</td>\n",
       "      <td>0.050801</td>\n",
       "      <td>-0.025627</td>\n",
       "    </tr>\n",
       "    <tr>\n",
       "      <th>accommodation_type_Private room</th>\n",
       "      <td>-0.107070</td>\n",
       "      <td>0.000188</td>\n",
       "      <td>0.048603</td>\n",
       "      <td>0.126273</td>\n",
       "      <td>0.166778</td>\n",
       "      <td>-0.177441</td>\n",
       "      <td>-0.300600</td>\n",
       "      <td>0.078203</td>\n",
       "      <td>0.138570</td>\n",
       "      <td>0.690654</td>\n",
       "      <td>-0.092917</td>\n",
       "      <td>0.031126</td>\n",
       "      <td>0.048503</td>\n",
       "      <td>0.050801</td>\n",
       "      <td>1.000000</td>\n",
       "      <td>-0.463693</td>\n",
       "    </tr>\n",
       "    <tr>\n",
       "      <th>accommodation_type_Shared room</th>\n",
       "      <td>0.150788</td>\n",
       "      <td>-0.005122</td>\n",
       "      <td>0.013993</td>\n",
       "      <td>-0.020195</td>\n",
       "      <td>-0.049767</td>\n",
       "      <td>-0.082181</td>\n",
       "      <td>-0.010960</td>\n",
       "      <td>0.035398</td>\n",
       "      <td>-0.048646</td>\n",
       "      <td>-0.081234</td>\n",
       "      <td>0.029619</td>\n",
       "      <td>-0.024543</td>\n",
       "      <td>0.015223</td>\n",
       "      <td>-0.025627</td>\n",
       "      <td>-0.463693</td>\n",
       "      <td>1.000000</td>\n",
       "    </tr>\n",
       "  </tbody>\n",
       "</table>\n",
       "</div>"
      ],
      "text/plain": [
       "                                       id  latitude  longitude      cost  \\\n",
       "id                               1.000000 -0.016030   0.059679 -0.036814   \n",
       "latitude                        -0.016030  1.000000   0.049337  0.009657   \n",
       "longitude                        0.059679  0.049337   1.000000 -0.136140   \n",
       "cost                            -0.036814  0.009657  -0.136140  1.000000   \n",
       "minimum_nights                  -0.078409  0.010614  -0.074862  0.052918   \n",
       "number_of_reviews               -0.330155  0.006295   0.006381 -0.074432   \n",
       "reviews_per_month                0.145984  0.015358   0.052653 -0.123086   \n",
       "owner_id                         0.523565 -0.009361   0.142912 -0.049586   \n",
       "owned_hotels                     0.025907  0.064103  -0.142529  0.032185   \n",
       "yearly_availability             -0.161629 -0.025119   0.119882  0.147576   \n",
       "region_Brooklyn                 -0.031877 -0.678672  -0.004712 -0.084543   \n",
       "region_Manhattan                -0.011724  0.575303  -0.474424  0.141398   \n",
       "region_Queens                    0.055043 -0.013750   0.651172 -0.066359   \n",
       "region_Staten Island            -0.001372 -0.159718  -0.248123  0.003322   \n",
       "accommodation_type_Private room -0.107070  0.000188   0.048603  0.126273   \n",
       "accommodation_type_Shared room   0.150788 -0.005122   0.013993 -0.020195   \n",
       "\n",
       "                                 minimum_nights  number_of_reviews  \\\n",
       "id                                    -0.078409          -0.330155   \n",
       "latitude                               0.010614           0.006295   \n",
       "longitude                             -0.074862           0.006381   \n",
       "cost                                   0.052918          -0.074432   \n",
       "minimum_nights                         1.000000          -0.088767   \n",
       "number_of_reviews                     -0.088767           1.000000   \n",
       "reviews_per_month                     -0.139803           0.576553   \n",
       "owner_id                              -0.018005          -0.161979   \n",
       "owned_hotels                           0.107893          -0.112328   \n",
       "yearly_availability                    0.173550          -0.191645   \n",
       "region_Brooklyn                       -0.045813           0.053843   \n",
       "region_Manhattan                       0.071547          -0.032103   \n",
       "region_Queens                         -0.026489          -0.026691   \n",
       "region_Staten Island                  -0.006379          -0.028090   \n",
       "accommodation_type_Private room        0.166778          -0.177441   \n",
       "accommodation_type_Shared room        -0.049767          -0.082181   \n",
       "\n",
       "                                 reviews_per_month  owner_id  owned_hotels  \\\n",
       "id                                        0.145984  0.523565      0.025907   \n",
       "latitude                                  0.015358 -0.009361      0.064103   \n",
       "longitude                                 0.052653  0.142912     -0.142529   \n",
       "cost                                     -0.123086 -0.049586      0.032185   \n",
       "minimum_nights                           -0.139803 -0.018005      0.107893   \n",
       "number_of_reviews                         0.576553 -0.161979     -0.112328   \n",
       "reviews_per_month                         1.000000  0.077579     -0.147011   \n",
       "owner_id                                  0.077579  1.000000      0.074535   \n",
       "owned_hotels                             -0.147011  0.074535      1.000000   \n",
       "yearly_availability                      -0.312213  0.121234      0.191906   \n",
       "region_Brooklyn                           0.021694 -0.064757     -0.156839   \n",
       "region_Manhattan                         -0.042358 -0.046818      0.209776   \n",
       "region_Queens                             0.022218  0.129014     -0.064695   \n",
       "region_Staten Island                     -0.007715  0.032356     -0.017487   \n",
       "accommodation_type_Private room          -0.300600  0.078203      0.138570   \n",
       "accommodation_type_Shared room           -0.010960  0.035398     -0.048646   \n",
       "\n",
       "                                 yearly_availability  region_Brooklyn  \\\n",
       "id                                         -0.161629        -0.031877   \n",
       "latitude                                   -0.025119        -0.678672   \n",
       "longitude                                   0.119882        -0.004712   \n",
       "cost                                        0.147576        -0.084543   \n",
       "minimum_nights                              0.173550        -0.045813   \n",
       "number_of_reviews                          -0.191645         0.053843   \n",
       "reviews_per_month                          -0.312213         0.021694   \n",
       "owner_id                                    0.121234        -0.064757   \n",
       "owned_hotels                                0.191906        -0.156839   \n",
       "yearly_availability                         1.000000        -0.079190   \n",
       "region_Brooklyn                            -0.079190         1.000000   \n",
       "region_Manhattan                           -0.019062        -0.720693   \n",
       "region_Queens                               0.094650        -0.297716   \n",
       "region_Staten Island                        0.050205        -0.054182   \n",
       "accommodation_type_Private room             0.690654        -0.092917   \n",
       "accommodation_type_Shared room             -0.081234         0.029619   \n",
       "\n",
       "                                 region_Manhattan  region_Queens  \\\n",
       "id                                      -0.011724       0.055043   \n",
       "latitude                                 0.575303      -0.013750   \n",
       "longitude                               -0.474424       0.651172   \n",
       "cost                                     0.141398      -0.066359   \n",
       "minimum_nights                           0.071547      -0.026489   \n",
       "number_of_reviews                       -0.032103      -0.026691   \n",
       "reviews_per_month                       -0.042358       0.022218   \n",
       "owner_id                                -0.046818       0.129014   \n",
       "owned_hotels                             0.209776      -0.064695   \n",
       "yearly_availability                     -0.019062       0.094650   \n",
       "region_Brooklyn                         -0.720693      -0.297716   \n",
       "region_Manhattan                         1.000000      -0.358269   \n",
       "region_Queens                           -0.358269       1.000000   \n",
       "region_Staten Island                    -0.065202      -0.026935   \n",
       "accommodation_type_Private room          0.031126       0.048503   \n",
       "accommodation_type_Shared room          -0.024543       0.015223   \n",
       "\n",
       "                                 region_Staten Island  \\\n",
       "id                                          -0.001372   \n",
       "latitude                                    -0.159718   \n",
       "longitude                                   -0.248123   \n",
       "cost                                         0.003322   \n",
       "minimum_nights                              -0.006379   \n",
       "number_of_reviews                           -0.028090   \n",
       "reviews_per_month                           -0.007715   \n",
       "owner_id                                     0.032356   \n",
       "owned_hotels                                -0.017487   \n",
       "yearly_availability                          0.050205   \n",
       "region_Brooklyn                             -0.054182   \n",
       "region_Manhattan                            -0.065202   \n",
       "region_Queens                               -0.026935   \n",
       "region_Staten Island                         1.000000   \n",
       "accommodation_type_Private room              0.050801   \n",
       "accommodation_type_Shared room              -0.025627   \n",
       "\n",
       "                                 accommodation_type_Private room  \\\n",
       "id                                                     -0.107070   \n",
       "latitude                                                0.000188   \n",
       "longitude                                               0.048603   \n",
       "cost                                                    0.126273   \n",
       "minimum_nights                                          0.166778   \n",
       "number_of_reviews                                      -0.177441   \n",
       "reviews_per_month                                      -0.300600   \n",
       "owner_id                                                0.078203   \n",
       "owned_hotels                                            0.138570   \n",
       "yearly_availability                                     0.690654   \n",
       "region_Brooklyn                                        -0.092917   \n",
       "region_Manhattan                                        0.031126   \n",
       "region_Queens                                           0.048503   \n",
       "region_Staten Island                                    0.050801   \n",
       "accommodation_type_Private room                         1.000000   \n",
       "accommodation_type_Shared room                         -0.463693   \n",
       "\n",
       "                                 accommodation_type_Shared room  \n",
       "id                                                     0.150788  \n",
       "latitude                                              -0.005122  \n",
       "longitude                                              0.013993  \n",
       "cost                                                  -0.020195  \n",
       "minimum_nights                                        -0.049767  \n",
       "number_of_reviews                                     -0.082181  \n",
       "reviews_per_month                                     -0.010960  \n",
       "owner_id                                               0.035398  \n",
       "owned_hotels                                          -0.048646  \n",
       "yearly_availability                                   -0.081234  \n",
       "region_Brooklyn                                        0.029619  \n",
       "region_Manhattan                                      -0.024543  \n",
       "region_Queens                                          0.015223  \n",
       "region_Staten Island                                  -0.025627  \n",
       "accommodation_type_Private room                       -0.463693  \n",
       "accommodation_type_Shared room                         1.000000  "
      ]
     },
     "execution_count": 46,
     "metadata": {},
     "output_type": "execute_result"
    }
   ],
   "source": [
    "# Correlation Matrix between the features\n",
    "corr_df = train_data.corr()\n",
    "corr_df"
   ]
  },
  {
   "cell_type": "markdown",
   "metadata": {},
   "source": [
    "- Second We calculate the correlation, in absolute values, between our target variable, yearly_availability with the rest of the features and we sort them."
   ]
  },
  {
   "cell_type": "code",
   "execution_count": 47,
   "metadata": {},
   "outputs": [
    {
     "data": {
      "text/plain": [
       "yearly_availability                1.000000\n",
       "accommodation_type_Private room    0.690654\n",
       "reviews_per_month                  0.312213\n",
       "owned_hotels                       0.191906\n",
       "number_of_reviews                  0.191645\n",
       "minimum_nights                     0.173550\n",
       "id                                 0.161629\n",
       "cost                               0.147576\n",
       "owner_id                           0.121234\n",
       "longitude                          0.119882\n",
       "region_Queens                      0.094650\n",
       "accommodation_type_Shared room     0.081234\n",
       "region_Brooklyn                    0.079190\n",
       "region_Staten Island               0.050205\n",
       "latitude                           0.025119\n",
       "region_Manhattan                   0.019062\n",
       "Name: yearly_availability, dtype: float64"
      ]
     },
     "execution_count": 47,
     "metadata": {},
     "output_type": "execute_result"
    }
   ],
   "source": [
    "corr_df.yearly_availability.abs().sort_values(ascending=False)"
   ]
  },
  {
   "cell_type": "markdown",
   "metadata": {},
   "source": [
    "There is an indication that the yearly availability is highly correlated with hotels that provide private rooms as an accomodation type, the numeber of reviews overall and per month, the number of hotels which are owned and the minimum number of rights required to stay among others. "
   ]
  },
  {
   "cell_type": "markdown",
   "metadata": {},
   "source": [
    "- We illustrate the correlation matrix between the different features."
   ]
  },
  {
   "cell_type": "code",
   "execution_count": 48,
   "metadata": {},
   "outputs": [],
   "source": [
    "# import visualization \n",
    "import seaborn as sns\n",
    "import matplotlib.pyplot as plt"
   ]
  },
  {
   "cell_type": "code",
   "execution_count": 49,
   "metadata": {},
   "outputs": [
    {
     "data": {
      "text/plain": [
       "Text(0.5, 1, 'Correlation between features')"
      ]
     },
     "execution_count": 49,
     "metadata": {},
     "output_type": "execute_result"
    },
    {
     "data": {
      "image/png": "[encoded data removed]",
      "text/plain": [
       "<Figure size 576x576 with 2 Axes>"
      ]
     },
     "metadata": {
      "needs_background": "light"
     },
     "output_type": "display_data"
    }
   ],
   "source": [
    "plt.figure(figsize=(8, 8))\n",
    "ax=plt.axes()\n",
    "sns.heatmap(corr_df, ax = ax)\n",
    "ax.set_title(\"Correlation between features\")"
   ]
  },
  {
   "cell_type": "markdown",
   "metadata": {},
   "source": [
    "#### Feature selection"
   ]
  },
  {
   "cell_type": "markdown",
   "metadata": {},
   "source": [
    "- Several features are not necessary for predictive purposes. For instance, the geolocation can be dropped, since we have information for the regions. In addition, the feature \"id\", which is the unique identifer for each can be dropped, along with the \"owner_id\" will not be useful. One reason is that for predictive purposes, the \"test\" data may be composed by different hotels with different \"identifiers\", subsequently the results will not be generalizable. We want our model to not just work for this data-set. Technically, we also avoid \"overfitting\" the model."
   ]
  },
  {
   "cell_type": "markdown",
   "metadata": {},
   "source": [
    "Drop features that will not be used in the machine learning model:"
   ]
  },
  {
   "cell_type": "code",
   "execution_count": 50,
   "metadata": {},
   "outputs": [],
   "source": [
    "# Dropping features that will overfit the model\n",
    "train_data_feature=train_data.drop(['id','latitude','longitude','owner_id'], axis = 1) "
   ]
  },
  {
   "cell_type": "markdown",
   "metadata": {},
   "source": [
    "We will be using these **11** features in our model:"
   ]
  },
  {
   "cell_type": "markdown",
   "metadata": {},
   "source": [
    "- accomodation_type_private_room\n",
    "- reviews per month\n",
    "- owned_hotels \n",
    "- owned_hotels\n",
    "- minimum_nights\n",
    "- cost\n",
    "- region_Queens\n",
    "- accommodation_type_Shared room \n",
    "- region_Brooklyn\n",
    "- region_Staten Island\n",
    "- region_Manhattan"
   ]
  },
  {
   "cell_type": "markdown",
   "metadata": {},
   "source": [
    "# Creating the model"
   ]
  },
  {
   "cell_type": "code",
   "execution_count": 54,
   "metadata": {},
   "outputs": [],
   "source": [
    "# We import modules that we will use.\n",
    "from sklearn.ensemble import RandomForestClassifier\n",
    "from sklearn.model_selection import train_test_split\n",
    "from sklearn.preprocessing import StandardScaler\n",
    "from sklearn.metrics import classification_report\n",
    "from sklearn.metrics import confusion_matrix  \n",
    "from sklearn.metrics import accuracy_score\n",
    "from sklearn import metrics\n",
    "import numpy as np\n",
    "from sklearn.metrics import classification_report"
   ]
  },
  {
   "cell_type": "markdown",
   "metadata": {},
   "source": [
    "#### Assessing whether the data is balanced"
   ]
  },
  {
   "cell_type": "code",
   "execution_count": 55,
   "metadata": {},
   "outputs": [
    {
     "data": {
      "text/plain": [
       "Text(0.5, 0, 'Class= 0  or Availability | Class= 1 Availability')"
      ]
     },
     "execution_count": 55,
     "metadata": {},
     "output_type": "execute_result"
    },
    {
     "data": {
      "image/png": "[encoded data removed]",
      "text/plain": [
       "<Figure size 504x360 with 1 Axes>"
      ]
     },
     "metadata": {
      "needs_background": "light"
     },
     "output_type": "display_data"
    }
   ],
   "source": [
    "# Checking distribution of yearly_availability column in the training data\n",
    "# Assessing whether the data is balanced\n",
    "f, ax = plt.subplots(figsize=(7,5))\n",
    "sns.countplot(x=\"yearly_availability\",data=train_data_feature)\n",
    "plt.title(\" Availability vs Non Availability\")\n",
    "plt.xlabel(\"Class= 0  or Availability | Class= 1 Availability\")"
   ]
  },
  {
   "cell_type": "markdown",
   "metadata": {},
   "source": [
    "- ##### The data is balanced because the number of records for both classes are almost equal. Subsequently, accuracy is a good metric to evaluate the predictive perfomance of the model."
   ]
  },
  {
   "cell_type": "markdown",
   "metadata": {},
   "source": [
    "### Model of Choice: Random Forest Classifier"
   ]
  },
  {
   "cell_type": "markdown",
   "metadata": {},
   "source": [
    "This is a binary classification problem because the target variable (yearly_availability) takes two values: 0 or 1. Random Forest is a model which can be used for such classification methods, although not the only one. "
   ]
  },
  {
   "cell_type": "markdown",
   "metadata": {},
   "source": [
    "*Technical note*: I select this model for the scope of this project it is less complex and faster than \"XGBOOST\", which matters if we don't have enough computational resources. It also provides a good balance between interpretability and accuracy, e.g. logistic regression models have better interpretability."
   ]
  },
  {
   "cell_type": "markdown",
   "metadata": {},
   "source": [
    "- We split the data to training and \"test\" sets"
   ]
  },
  {
   "cell_type": "code",
   "execution_count": 56,
   "metadata": {},
   "outputs": [],
   "source": [
    "# Split the data to training and \"test\" sets\n",
    "np.random.seed(7)\n",
    "X = train_data_feature.drop([\"yearly_availability\"], axis=1)\n",
    "y = train_data_feature['yearly_availability']\n",
    "X_train, X_test, y_train, y_test = train_test_split(X, y, random_state=1)"
   ]
  },
  {
   "cell_type": "markdown",
   "metadata": {},
   "source": [
    "The dimensions of the data set after spliting the data into training and test sets"
   ]
  },
  {
   "cell_type": "code",
   "execution_count": 57,
   "metadata": {},
   "outputs": [
    {
     "name": "stdout",
     "output_type": "stream",
     "text": [
      "Training Data Dimensions: (2152, 11) (2152,)\n",
      "Test Data Dimensions: (718, 11) (718,)\n"
     ]
    }
   ],
   "source": [
    "print(\"Training Data Dimensions:\",X_train.shape,y_train.shape)\n",
    "print(\"Test Data Dimensions:\", X_test.shape,y_test.shape)"
   ]
  },
  {
   "cell_type": "markdown",
   "metadata": {},
   "source": [
    "## Random Forest on Training Data. "
   ]
  },
  {
   "cell_type": "markdown",
   "metadata": {},
   "source": [
    "This is a subset of the data on which we train the model. We fit the model to elicit the parameters of interest."
   ]
  },
  {
   "cell_type": "markdown",
   "metadata": {},
   "source": [
    "- First: we tune the hyperaparameters of the model to find the best values to employ in the final predictive model"
   ]
  },
  {
   "cell_type": "markdown",
   "metadata": {},
   "source": [
    "- The tuning is conducted with a Randomized Search 5 folds Cross Validation: *RandomizedSearchCV*"
   ]
  },
  {
   "cell_type": "code",
   "execution_count": 58,
   "metadata": {},
   "outputs": [],
   "source": [
    "from sklearn.model_selection import RandomizedSearchCV"
   ]
  },
  {
   "cell_type": "markdown",
   "metadata": {},
   "source": [
    "- I specify a numbers of different values for each hypermarameter to choose from. As mentioned I implement a Randomized Search. The goal is to find the optimal hyperparameters that improve the accuracy of our predictive model."
   ]
  },
  {
   "cell_type": "code",
   "execution_count": 59,
   "metadata": {},
   "outputs": [
    {
     "name": "stdout",
     "output_type": "stream",
     "text": [
      "{'n_estimators': [200, 400, 600, 800, 1000, 1200, 1400, 1600, 1800], 'max_features': ['auto', 'sqrt'], 'max_depth': [10, 20, 30, 40, 50, 60, 70, 80, 90, 100, 110, None], 'min_samples_split': [2, 5, 10], 'min_samples_leaf': [1, 2, 4], 'bootstrap': [True, False]}\n"
     ]
    }
   ],
   "source": [
    "# Number of trees in random forest\n",
    "n_estimators = [int(x) for x in range(200,2000,200)]\n",
    "# Number of features to consider at every split\n",
    "max_features = ['auto', 'sqrt']\n",
    "# Maximum number of levels in tree\n",
    "max_depth = [int(x) for x in np.linspace(10, 110, num = 11)]\n",
    "max_depth.append(None)\n",
    "# Minimum number of samples required to split a node\n",
    "min_samples_split = [2, 5, 10]\n",
    "# Minimum number of samples required at each leaf node\n",
    "min_samples_leaf = [1, 2, 4]\n",
    "# Method of selecting samples for training each tree\n",
    "bootstrap = [True, False]\n",
    "# Create the random grid\n",
    "random_hyperprm = {'n_estimators': n_estimators,\n",
    "               'max_features': max_features,\n",
    "               'max_depth': max_depth,\n",
    "               'min_samples_split': min_samples_split,\n",
    "               'min_samples_leaf': min_samples_leaf,\n",
    "               'bootstrap': bootstrap}\n",
    "print(random_hyperprm)"
   ]
  },
  {
   "cell_type": "markdown",
   "metadata": {},
   "source": [
    "- Next I implement the 5 fold cross-validation for different sets of hyperparameters"
   ]
  },
  {
   "cell_type": "code",
   "execution_count": 60,
   "metadata": {},
   "outputs": [
    {
     "name": "stdout",
     "output_type": "stream",
     "text": [
      "Fitting 5 folds for each of 100 candidates, totalling 500 fits\n"
     ]
    },
    {
     "name": "stderr",
     "output_type": "stream",
     "text": [
      "[Parallel(n_jobs=-1)]: Using backend LokyBackend with 2 concurrent workers.\n",
      "[Parallel(n_jobs=-1)]: Done  37 tasks      | elapsed:  1.3min\n",
      "[Parallel(n_jobs=-1)]: Done 158 tasks      | elapsed:  4.5min\n",
      "[Parallel(n_jobs=-1)]: Done 361 tasks      | elapsed: 10.6min\n",
      "[Parallel(n_jobs=-1)]: Done 500 out of 500 | elapsed: 14.4min finished\n"
     ]
    },
    {
     "data": {
      "text/plain": [
       "RandomizedSearchCV(cv=5, error_score='raise-deprecating',\n",
       "                   estimator=RandomForestClassifier(bootstrap=True,\n",
       "                                                    class_weight=None,\n",
       "                                                    criterion='gini',\n",
       "                                                    max_depth=None,\n",
       "                                                    max_features='auto',\n",
       "                                                    max_leaf_nodes=None,\n",
       "                                                    min_impurity_decrease=0.0,\n",
       "                                                    min_impurity_split=None,\n",
       "                                                    min_samples_leaf=1,\n",
       "                                                    min_samples_split=2,\n",
       "                                                    min_weight_fraction_leaf=0.0,\n",
       "                                                    n_estimators='warn',\n",
       "                                                    n_jobs=None,\n",
       "                                                    oob_sc...\n",
       "                   iid='warn', n_iter=100, n_jobs=-1,\n",
       "                   param_distributions={'bootstrap': [True, False],\n",
       "                                        'max_depth': [10, 20, 30, 40, 50, 60,\n",
       "                                                      70, 80, 90, 100, 110,\n",
       "                                                      None],\n",
       "                                        'max_features': ['auto', 'sqrt'],\n",
       "                                        'min_samples_leaf': [1, 2, 4],\n",
       "                                        'min_samples_split': [2, 5, 10],\n",
       "                                        'n_estimators': [200, 400, 600, 800,\n",
       "                                                         1000, 1200, 1400, 1600,\n",
       "                                                         1800]},\n",
       "                   pre_dispatch='2*n_jobs', random_state=1, refit=True,\n",
       "                   return_train_score=False, scoring=None, verbose=2)"
      ]
     },
     "execution_count": 60,
     "metadata": {},
     "output_type": "execute_result"
    }
   ],
   "source": [
    "# Use the random grid to search for best hyperparameters\n",
    "# First create the base model to tune\n",
    "model_rf = RandomForestClassifier()\n",
    "# 5 fold cross validation, \n",
    "# search across 100 different combinations, and use all available cores\n",
    "model_rf_cv = RandomizedSearchCV(estimator = model_rf, param_distributions = random_hyperprm, n_iter = 100, cv = 5, verbose=2, random_state=1, n_jobs = -1)\n",
    "# Fit the random search model\n",
    "model_rf_cv.fit(X_train, y_train)"
   ]
  },
  {
   "cell_type": "markdown",
   "metadata": {},
   "source": [
    "- Subsequently, the optimal hyperparameters to train the model are as follows:"
   ]
  },
  {
   "cell_type": "markdown",
   "metadata": {},
   "source": [
    "The Optimal parameters which we will use after Tuning the model:"
   ]
  },
  {
   "cell_type": "code",
   "execution_count": 61,
   "metadata": {},
   "outputs": [
    {
     "data": {
      "text/plain": [
       "{'n_estimators': 800,\n",
       " 'min_samples_split': 5,\n",
       " 'min_samples_leaf': 2,\n",
       " 'max_features': 'sqrt',\n",
       " 'max_depth': 20,\n",
       " 'bootstrap': False}"
      ]
     },
     "execution_count": 61,
     "metadata": {},
     "output_type": "execute_result"
    }
   ],
   "source": [
    "model_rf_cv.best_params_"
   ]
  },
  {
   "cell_type": "markdown",
   "metadata": {},
   "source": [
    "- The next step is to evaluate the model using the optimal hyperparameters to predict the accuracy and confusion matrix in the test sample."
   ]
  },
  {
   "cell_type": "code",
   "execution_count": 62,
   "metadata": {},
   "outputs": [
    {
     "name": "stdout",
     "output_type": "stream",
     "text": [
      "Confusion matrix:\n",
      " [[324  30]\n",
      " [ 17 347]]\n",
      "Training accuracy: 93.4540 %\n",
      "              precision    recall  f1-score   support\n",
      "\n",
      "           0     0.9501    0.9153    0.9324       354\n",
      "           1     0.9204    0.9533    0.9366       364\n",
      "\n",
      "    accuracy                         0.9345       718\n",
      "   macro avg     0.9353    0.9343    0.9345       718\n",
      "weighted avg     0.9351    0.9345    0.9345       718\n",
      "\n"
     ]
    }
   ],
   "source": [
    "model_opt = model_rf_cv.best_estimator_\n",
    "y_test_pred = model_opt.predict(X_test)\n",
    "\n",
    "accuracy = accuracy_score(y_test, y_test_pred)*100\n",
    "\n",
    "print('Confusion matrix:\\n', confusion_matrix(y_test, y_test_pred))\n",
    "print('Training accuracy: %.4f %%' % accuracy)\n",
    "\n",
    "print(classification_report(y_test, y_test_pred, digits=4))"
   ]
  },
  {
   "cell_type": "markdown",
   "metadata": {},
   "source": [
    "- The accuracy of the model on the out of sample testing data set is *93.3148 %* . \n",
    "- This is an indication that the model has good predictive performance. \n",
    "- The 5 cross validation step is important to avoid overfitting the data."
   ]
  },
  {
   "cell_type": "markdown",
   "metadata": {},
   "source": [
    "### Plot Confusion Matrix"
   ]
  },
  {
   "cell_type": "code",
   "execution_count": 65,
   "metadata": {},
   "outputs": [],
   "source": [
    "cf_mat = confusion_matrix(y_test, y_test_pred)"
   ]
  },
  {
   "cell_type": "code",
   "execution_count": 66,
   "metadata": {},
   "outputs": [
    {
     "data": {
      "image/png": "[encoded data removed]",
      "text/plain": [
       "<Figure size 432x288 with 2 Axes>"
      ]
     },
     "metadata": {
      "needs_background": "light"
     },
     "output_type": "display_data"
    }
   ],
   "source": [
    "# plt.figure(figsize=(7,4))\n",
    "ax = sns.heatmap(cf_mat, annot=False, cmap='Reds')\n",
    "\n",
    "ax.set_title('Confusion Matrix with labels\\n\\n');\n",
    "ax.set_xlabel('\\nPredicted Values')\n",
    "ax.set_ylabel('Actual Values ');\n",
    "\n",
    "## Ticket labels - List must be in alphabetical order\n",
    "ax.xaxis.set_ticklabels(['False','True'])\n",
    "ax.yaxis.set_ticklabels(['False','True'])\n",
    "\n",
    "## Display the visualization of the Confusion Matrix.\n",
    "plt.show()"
   ]
  },
  {
   "cell_type": "markdown",
   "metadata": {},
   "source": [
    "### Test Data: clean and prepare test data for prediction"
   ]
  },
  {
   "cell_type": "code",
   "execution_count": 73,
   "metadata": {
    "colab": {},
    "colab_type": "code",
    "id": "Hsxh3SMgIKSY",
    "outputId": "d98d0f00-f33f-407b-df59-a9915bb03fa1"
   },
   "outputs": [
    {
     "data": {
      "text/html": [
       "<div>\n",
       "<style scoped>\n",
       "    .dataframe tbody tr th:only-of-type {\n",
       "        vertical-align: middle;\n",
       "    }\n",
       "\n",
       "    .dataframe tbody tr th {\n",
       "        vertical-align: top;\n",
       "    }\n",
       "\n",
       "    .dataframe thead th {\n",
       "        text-align: right;\n",
       "    }\n",
       "</style>\n",
       "<table border=\"1\" class=\"dataframe\">\n",
       "  <thead>\n",
       "    <tr style=\"text-align: right;\">\n",
       "      <th></th>\n",
       "      <th>id</th>\n",
       "      <th>region</th>\n",
       "      <th>latitude</th>\n",
       "      <th>longitude</th>\n",
       "      <th>accommodation_type</th>\n",
       "      <th>cost</th>\n",
       "      <th>minimum_nights</th>\n",
       "      <th>number_of_reviews</th>\n",
       "      <th>reviews_per_month</th>\n",
       "      <th>owner_id</th>\n",
       "      <th>owned_hotels</th>\n",
       "    </tr>\n",
       "  </thead>\n",
       "  <tbody>\n",
       "    <tr>\n",
       "      <th>0</th>\n",
       "      <td>19215</td>\n",
       "      <td>Brooklyn</td>\n",
       "      <td>40.70912</td>\n",
       "      <td>-73.94513</td>\n",
       "      <td>Shared room</td>\n",
       "      <td>135</td>\n",
       "      <td>2</td>\n",
       "      <td>22</td>\n",
       "      <td>0.66</td>\n",
       "      <td>4360212</td>\n",
       "      <td>1</td>\n",
       "    </tr>\n",
       "    <tr>\n",
       "      <th>1</th>\n",
       "      <td>36301</td>\n",
       "      <td>Brooklyn</td>\n",
       "      <td>40.57646</td>\n",
       "      <td>-73.96641</td>\n",
       "      <td>Entire home/apt</td>\n",
       "      <td>69</td>\n",
       "      <td>2</td>\n",
       "      <td>8</td>\n",
       "      <td>0.90</td>\n",
       "      <td>181356989</td>\n",
       "      <td>2</td>\n",
       "    </tr>\n",
       "    <tr>\n",
       "      <th>2</th>\n",
       "      <td>40566</td>\n",
       "      <td>Manhattan</td>\n",
       "      <td>40.76616</td>\n",
       "      <td>-73.98228</td>\n",
       "      <td>Private room</td>\n",
       "      <td>225</td>\n",
       "      <td>30</td>\n",
       "      <td>0</td>\n",
       "      <td>NaN</td>\n",
       "      <td>13773574</td>\n",
       "      <td>12</td>\n",
       "    </tr>\n",
       "    <tr>\n",
       "      <th>3</th>\n",
       "      <td>33694</td>\n",
       "      <td>Manhattan</td>\n",
       "      <td>40.77668</td>\n",
       "      <td>-73.94587</td>\n",
       "      <td>Shared room</td>\n",
       "      <td>125</td>\n",
       "      <td>30</td>\n",
       "      <td>9</td>\n",
       "      <td>0.82</td>\n",
       "      <td>6788748</td>\n",
       "      <td>1</td>\n",
       "    </tr>\n",
       "    <tr>\n",
       "      <th>4</th>\n",
       "      <td>28873</td>\n",
       "      <td>Manhattan</td>\n",
       "      <td>40.80279</td>\n",
       "      <td>-73.94450</td>\n",
       "      <td>Entire home/apt</td>\n",
       "      <td>43</td>\n",
       "      <td>1</td>\n",
       "      <td>13</td>\n",
       "      <td>0.72</td>\n",
       "      <td>105061915</td>\n",
       "      <td>2</td>\n",
       "    </tr>\n",
       "  </tbody>\n",
       "</table>\n",
       "</div>"
      ],
      "text/plain": [
       "      id     region  latitude  longitude accommodation_type  cost  \\\n",
       "0  19215   Brooklyn  40.70912  -73.94513        Shared room   135   \n",
       "1  36301   Brooklyn  40.57646  -73.96641    Entire home/apt    69   \n",
       "2  40566  Manhattan  40.76616  -73.98228       Private room   225   \n",
       "3  33694  Manhattan  40.77668  -73.94587        Shared room   125   \n",
       "4  28873  Manhattan  40.80279  -73.94450    Entire home/apt    43   \n",
       "\n",
       "   minimum_nights  number_of_reviews  reviews_per_month   owner_id  \\\n",
       "0               2                 22               0.66    4360212   \n",
       "1               2                  8               0.90  181356989   \n",
       "2              30                  0                NaN   13773574   \n",
       "3              30                  9               0.82    6788748   \n",
       "4               1                 13               0.72  105061915   \n",
       "\n",
       "   owned_hotels  \n",
       "0             1  \n",
       "1             2  \n",
       "2            12  \n",
       "3             1  \n",
       "4             2  "
      ]
     },
     "execution_count": 73,
     "metadata": {},
     "output_type": "execute_result"
    }
   ],
   "source": [
    "#Loading Test data\n",
    "test_data=pd.read_csv('test.csv')\n",
    "test_data.head()"
   ]
  },
  {
   "cell_type": "code",
   "execution_count": 74,
   "metadata": {
    "colab": {},
    "colab_type": "code",
    "id": "73vBzp7lIKSf"
   },
   "outputs": [
    {
     "data": {
      "text/plain": [
       "(718, 11)"
      ]
     },
     "execution_count": 74,
     "metadata": {},
     "output_type": "execute_result"
    }
   ],
   "source": [
    "test_data.shape"
   ]
  },
  {
   "cell_type": "markdown",
   "metadata": {
    "colab": {},
    "colab_type": "code",
    "id": "1XiIoLYLIKSj"
   },
   "source": [
    "- Transforming and cleaning test data"
   ]
  },
  {
   "cell_type": "code",
   "execution_count": 75,
   "metadata": {
    "colab": {},
    "colab_type": "code",
    "id": "7tBCHjd3IKSp"
   },
   "outputs": [
    {
     "data": {
      "text/plain": [
       "id                      0\n",
       "region                  0\n",
       "latitude                0\n",
       "longitude               0\n",
       "accommodation_type      0\n",
       "cost                    0\n",
       "minimum_nights          0\n",
       "number_of_reviews       0\n",
       "reviews_per_month     173\n",
       "owner_id                0\n",
       "owned_hotels            0\n",
       "dtype: int64"
      ]
     },
     "execution_count": 75,
     "metadata": {},
     "output_type": "execute_result"
    }
   ],
   "source": [
    "### Check if there are missing values in the \"test\" dataset\n",
    "test_data.isnull().sum(axis=0)"
   ]
  },
  {
   "cell_type": "markdown",
   "metadata": {
    "colab": {},
    "colab_type": "code",
    "id": "1Vk1EEy9IKSv"
   },
   "source": [
    "We replace the null values for the \"reviews_per_month\" variable to 0, instead of dropping them. The motivation is the same as before for the training data."
   ]
  },
  {
   "cell_type": "code",
   "execution_count": 76,
   "metadata": {
    "colab": {},
    "colab_type": "code",
    "id": "nkQU41WSIKSz"
   },
   "outputs": [],
   "source": [
    "test_data.reviews_per_month = test_data.reviews_per_month.fillna(0)"
   ]
  },
  {
   "cell_type": "code",
   "execution_count": 77,
   "metadata": {},
   "outputs": [],
   "source": [
    "# One-hot Encode the Categorical Data\n",
    "test_data = pd.get_dummies(test_data,drop_first=True)"
   ]
  },
  {
   "cell_type": "code",
   "execution_count": 78,
   "metadata": {},
   "outputs": [],
   "source": [
    "# Feature Selection\n",
    "test_data_feature = test_data.drop(['id','latitude','longitude','owner_id'], axis = 1)"
   ]
  },
  {
   "cell_type": "code",
   "execution_count": 79,
   "metadata": {},
   "outputs": [
    {
     "data": {
      "text/plain": [
       "(718, 11)"
      ]
     },
     "execution_count": 79,
     "metadata": {},
     "output_type": "execute_result"
    }
   ],
   "source": [
    "# Data to be used for the final submission:\n",
    "test_data_feature.shape"
   ]
  },
  {
   "cell_type": "markdown",
   "metadata": {
    "colab_type": "text",
    "id": "MK_rdXETIKS4"
   },
   "source": [
    "\n",
    "\n",
    "**Highlight the most important features of the model for management.**\n",
    "\n",
    "> #### Task:\n",
    "- **Visualize the top 20 features and their feature importance.**\n"
   ]
  },
  {
   "cell_type": "markdown",
   "metadata": {},
   "source": [
    "One approach to answer this question is to explore the correlation between the features with the \"yearly_availability\". \n",
    "\n",
    "- We illustrate the strength and the nature of this relationship as follows:"
   ]
  },
  {
   "cell_type": "code",
   "execution_count": 70,
   "metadata": {},
   "outputs": [],
   "source": [
    "corr_df_train = train_data_feature.corr()"
   ]
  },
  {
   "cell_type": "code",
   "execution_count": 68,
   "metadata": {},
   "outputs": [
    {
     "data": {
      "text/plain": [
       "(array([ 0,  1,  2,  3,  4,  5,  6,  7,  8,  9, 10, 11]),\n",
       " <a list of 12 Text xticklabel objects>)"
      ]
     },
     "execution_count": 68,
     "metadata": {},
     "output_type": "execute_result"
    },
    {
     "data": {
      "image/png": "[encoded data removed]",
      "text/plain": [
       "<Figure size 720x432 with 1 Axes>"
      ]
     },
     "metadata": {
      "needs_background": "light"
     },
     "output_type": "display_data"
    }
   ],
   "source": [
    "corr_df_viz=corr_df_train\n",
    "corr_df_viz['feature'] = corr_df_viz.index\n",
    "\n",
    "plt.figure(figsize=(10,6))\n",
    "# make barplot\n",
    "sns.barplot(x='feature',\n",
    "            y='yearly_availability',\n",
    "            data=corr_df_viz,\n",
    "            order=corr_df_viz.sort_values('yearly_availability',ascending = False).feature)\n",
    "\n",
    "# set labels\n",
    "plt.xlabel(\"Feature\", size = 15)\n",
    "plt.ylabel(\"Correlation with Yearly Availability\", size = 15)\n",
    "plt.title(\"Top 20 Features\", size=18)\n",
    "plt.tight_layout()\n",
    "plt.xticks(rotation=80)"
   ]
  },
  {
   "cell_type": "markdown",
   "metadata": {},
   "source": [
    "**Results**: Overal, two features appear to be highly correlated with the yearly availability: the accomodation_type_private_room, and the reviews per month. The results illustrate that the the yearly availability is highly and positively correlated with hotels that provide private rooms as an accomodation type, tthe number of owned hotel, the numeber of reviews overall and per month, the number of hotels which are owned, and the minimum number of rights required to stay and the cost. In contrast, there is a negative correlation between the yearly_availability and the total number of reviews and the reviews per month. It appears that hotels which have a yearly availability for 365 days in a year tend to have less reviews."
   ]
  },
  {
   "cell_type": "markdown",
   "metadata": {},
   "source": [
    "- We generate again a Table of the correlations ( in absolute values) between yearly_ availability to the selected features. The correlations are sorted from highest to lowest: "
   ]
  },
  {
   "cell_type": "code",
   "execution_count": 69,
   "metadata": {},
   "outputs": [
    {
     "data": {
      "text/plain": [
       "yearly_availability                1.000000\n",
       "accommodation_type_Private room    0.690654\n",
       "reviews_per_month                  0.312213\n",
       "owned_hotels                       0.191906\n",
       "number_of_reviews                  0.191645\n",
       "minimum_nights                     0.173550\n",
       "cost                               0.147576\n",
       "region_Queens                      0.094650\n",
       "accommodation_type_Shared room     0.081234\n",
       "region_Brooklyn                    0.079190\n",
       "region_Staten Island               0.050205\n",
       "region_Manhattan                   0.019062\n",
       "Name: yearly_availability, dtype: float64"
      ]
     },
     "execution_count": 69,
     "metadata": {},
     "output_type": "execute_result"
    }
   ],
   "source": [
    "corr_df_train.yearly_availability.abs().sort_values(ascending=False)"
   ]
  },
  {
   "cell_type": "markdown",
   "metadata": {
    "colab": {},
    "colab_type": "code",
    "id": "HHFM3XPMIKS6"
   },
   "source": [
    "It should be noted that the reviews_per_month and the number_of_reviews are strongly and positively correlated, which makes sense."
   ]
  },
  {
   "cell_type": "markdown",
   "metadata": {},
   "source": [
    "- This is an indication that the yearly availability is highly correlated with hotels that provide private rooms as an accomodation type, the number of reviews overall and per month, the number of hotels which are owned and the minimum number of rights. "
   ]
  },
  {
   "cell_type": "markdown",
   "metadata": {},
   "source": [
    "Thus by order of magnitude the 11 most important features are:\n",
    "- accomodation_type_private_room\n",
    "- reviews per month\n",
    "- owned_hotels \n",
    "- owned_hotels\n",
    "- minimum_nights\n",
    "- cost\n",
    "- region_Queens\n",
    "- accommodation_type_Shared room \n",
    "- region_Brooklyn\n",
    "- region_Staten Island\n",
    "- region_Manhattan"
   ]
  },
  {
   "cell_type": "markdown",
   "metadata": {},
   "source": [
    "The following features have a negative correlations with hotels that are available throughout the entire year:\n",
    "    \n",
    "- reviews_per_month\n",
    "- number_of_reviews\n",
    "- accommodation_type_Shared room\n",
    "- region_Brooklyn\n",
    "- region_Manhattan"
   ]
  },
  {
   "cell_type": "markdown",
   "metadata": {},
   "source": [
    "## Feature Importance with Random Forest "
   ]
  },
  {
   "cell_type": "markdown",
   "metadata": {},
   "source": [
    "- The model also allows us to further explore the feature importance after it was trained. We display the most important features based on the model."
   ]
  },
  {
   "cell_type": "markdown",
   "metadata": {},
   "source": [
    "- We sort the features in descending order as follows:"
   ]
  },
  {
   "cell_type": "code",
   "execution_count": 71,
   "metadata": {},
   "outputs": [
    {
     "data": {
      "text/html": [
       "<div>\n",
       "<style scoped>\n",
       "    .dataframe tbody tr th:only-of-type {\n",
       "        vertical-align: middle;\n",
       "    }\n",
       "\n",
       "    .dataframe tbody tr th {\n",
       "        vertical-align: top;\n",
       "    }\n",
       "\n",
       "    .dataframe thead th {\n",
       "        text-align: right;\n",
       "    }\n",
       "</style>\n",
       "<table border=\"1\" class=\"dataframe\">\n",
       "  <thead>\n",
       "    <tr style=\"text-align: right;\">\n",
       "      <th></th>\n",
       "      <th>Feature</th>\n",
       "      <th>Importance</th>\n",
       "    </tr>\n",
       "  </thead>\n",
       "  <tbody>\n",
       "    <tr>\n",
       "      <th>9</th>\n",
       "      <td>accommodation_type_Private room</td>\n",
       "      <td>0.424696</td>\n",
       "    </tr>\n",
       "    <tr>\n",
       "      <th>4</th>\n",
       "      <td>owned_hotels</td>\n",
       "      <td>0.167984</td>\n",
       "    </tr>\n",
       "    <tr>\n",
       "      <th>3</th>\n",
       "      <td>reviews_per_month</td>\n",
       "      <td>0.101982</td>\n",
       "    </tr>\n",
       "    <tr>\n",
       "      <th>10</th>\n",
       "      <td>accommodation_type_Shared room</td>\n",
       "      <td>0.086491</td>\n",
       "    </tr>\n",
       "    <tr>\n",
       "      <th>2</th>\n",
       "      <td>number_of_reviews</td>\n",
       "      <td>0.077632</td>\n",
       "    </tr>\n",
       "    <tr>\n",
       "      <th>1</th>\n",
       "      <td>minimum_nights</td>\n",
       "      <td>0.060966</td>\n",
       "    </tr>\n",
       "    <tr>\n",
       "      <th>0</th>\n",
       "      <td>cost</td>\n",
       "      <td>0.058301</td>\n",
       "    </tr>\n",
       "    <tr>\n",
       "      <th>7</th>\n",
       "      <td>region_Queens</td>\n",
       "      <td>0.007862</td>\n",
       "    </tr>\n",
       "    <tr>\n",
       "      <th>6</th>\n",
       "      <td>region_Manhattan</td>\n",
       "      <td>0.007435</td>\n",
       "    </tr>\n",
       "    <tr>\n",
       "      <th>5</th>\n",
       "      <td>region_Brooklyn</td>\n",
       "      <td>0.006603</td>\n",
       "    </tr>\n",
       "    <tr>\n",
       "      <th>8</th>\n",
       "      <td>region_Staten Island</td>\n",
       "      <td>0.000048</td>\n",
       "    </tr>\n",
       "  </tbody>\n",
       "</table>\n",
       "</div>"
      ],
      "text/plain": [
       "                            Feature  Importance\n",
       "9   accommodation_type_Private room    0.424696\n",
       "4                      owned_hotels    0.167984\n",
       "3                 reviews_per_month    0.101982\n",
       "10   accommodation_type_Shared room    0.086491\n",
       "2                 number_of_reviews    0.077632\n",
       "1                    minimum_nights    0.060966\n",
       "0                              cost    0.058301\n",
       "7                     region_Queens    0.007862\n",
       "6                  region_Manhattan    0.007435\n",
       "5                   region_Brooklyn    0.006603\n",
       "8              region_Staten Island    0.000048"
      ]
     },
     "execution_count": 71,
     "metadata": {},
     "output_type": "execute_result"
    }
   ],
   "source": [
    "pd.DataFrame({'Feature':X_train.columns,\n",
    "              'Importance':model_opt.feature_importances_}).sort_values('Importance', ascending=False)"
   ]
  },
  {
   "cell_type": "markdown",
   "metadata": {},
   "source": [
    "- We visualize the importance of each feature in the model"
   ]
  },
  {
   "cell_type": "code",
   "execution_count": 72,
   "metadata": {},
   "outputs": [
    {
     "data": {
      "text/plain": [
       "Text(0.5, 0, 'Random Forest Feature Importance')"
      ]
     },
     "execution_count": 72,
     "metadata": {},
     "output_type": "execute_result"
    },
    {
     "data": {
      "image/png": "[encoded data removed]",
      "text/plain": [
       "<Figure size 576x432 with 1 Axes>"
      ]
     },
     "metadata": {
      "needs_background": "light"
     },
     "output_type": "display_data"
    }
   ],
   "source": [
    "sorted_idx = model_opt.feature_importances_.argsort()\n",
    "plt.figure(figsize=(8,6))\n",
    "plt.barh(X_train.columns[sorted_idx], model_opt.feature_importances_[sorted_idx])\n",
    "plt.xlabel(\"Random Forest Feature Importance\")"
   ]
  },
  {
   "cell_type": "markdown",
   "metadata": {},
   "source": [
    "The results are consistent with what we saw with the correlation analysis. Private Rooms as an accomodation type the most prominent feature to on wheher there is a yearly availability for a hotel, followed by the number of hotels owned by the owner, and the reviews per month. "
   ]
  },
  {
   "cell_type": "markdown",
   "metadata": {},
   "source": [
    "*Overall* hotels with accomodation type of private rooms are important factor on whether they are available throughout the entire year."
   ]
  },
  {
   "cell_type": "markdown",
   "metadata": {},
   "source": [
    "Subsequently, this analysis can be used by **Travel Express** to decide the hotels it want to include when yearly availability is decision criteria."
   ]
  },
  {
   "cell_type": "markdown",
   "metadata": {
    "colab_type": "text",
    "id": "UFogmgYZIKTE"
   },
   "source": [
    "> #### Task:\n",
    "- **Submit the predictions on the test dataset using your optimized model** <br/>\n",
    "    For each record in the test set (`test.csv`), predict the value of the `yearly_availability` variable. Submit a CSV file with a header row and one row per test entry.\n",
    "\n",
    "The file (`submissions.csv`) should have exactly 2 columns:\n",
    "   - **id**\n",
    "   - **yearly_availability**"
   ]
  },
  {
   "cell_type": "code",
   "execution_count": 80,
   "metadata": {
    "colab": {},
    "colab_type": "code",
    "id": "7xgNg25MIKTG"
   },
   "outputs": [],
   "source": [
    "# Combining prediction results to IDs.\n",
    "pred_list = list(model_opt.predict(test_data_feature))\n",
    "pred_id =  list(test_data['id'])\n",
    "submission_df=pd.DataFrame(list(zip(pred_id, pred_list)) , columns=['id','yearly_availability'])"
   ]
  },
  {
   "cell_type": "code",
   "execution_count": 81,
   "metadata": {
    "colab": {},
    "colab_type": "code",
    "id": "OaxN7BjwIKTL"
   },
   "outputs": [
    {
     "data": {
      "text/html": [
       "<div>\n",
       "<style scoped>\n",
       "    .dataframe tbody tr th:only-of-type {\n",
       "        vertical-align: middle;\n",
       "    }\n",
       "\n",
       "    .dataframe tbody tr th {\n",
       "        vertical-align: top;\n",
       "    }\n",
       "\n",
       "    .dataframe thead th {\n",
       "        text-align: right;\n",
       "    }\n",
       "</style>\n",
       "<table border=\"1\" class=\"dataframe\">\n",
       "  <thead>\n",
       "    <tr style=\"text-align: right;\">\n",
       "      <th></th>\n",
       "      <th>id</th>\n",
       "      <th>yearly_availability</th>\n",
       "    </tr>\n",
       "  </thead>\n",
       "  <tbody>\n",
       "    <tr>\n",
       "      <th>0</th>\n",
       "      <td>19215</td>\n",
       "      <td>0</td>\n",
       "    </tr>\n",
       "    <tr>\n",
       "      <th>1</th>\n",
       "      <td>36301</td>\n",
       "      <td>0</td>\n",
       "    </tr>\n",
       "    <tr>\n",
       "      <th>2</th>\n",
       "      <td>40566</td>\n",
       "      <td>1</td>\n",
       "    </tr>\n",
       "    <tr>\n",
       "      <th>3</th>\n",
       "      <td>33694</td>\n",
       "      <td>0</td>\n",
       "    </tr>\n",
       "    <tr>\n",
       "      <th>4</th>\n",
       "      <td>28873</td>\n",
       "      <td>0</td>\n",
       "    </tr>\n",
       "    <tr>\n",
       "      <th>...</th>\n",
       "      <td>...</td>\n",
       "      <td>...</td>\n",
       "    </tr>\n",
       "    <tr>\n",
       "      <th>713</th>\n",
       "      <td>26801</td>\n",
       "      <td>0</td>\n",
       "    </tr>\n",
       "    <tr>\n",
       "      <th>714</th>\n",
       "      <td>20110</td>\n",
       "      <td>0</td>\n",
       "    </tr>\n",
       "    <tr>\n",
       "      <th>715</th>\n",
       "      <td>31383</td>\n",
       "      <td>0</td>\n",
       "    </tr>\n",
       "    <tr>\n",
       "      <th>716</th>\n",
       "      <td>47135</td>\n",
       "      <td>1</td>\n",
       "    </tr>\n",
       "    <tr>\n",
       "      <th>717</th>\n",
       "      <td>13154</td>\n",
       "      <td>1</td>\n",
       "    </tr>\n",
       "  </tbody>\n",
       "</table>\n",
       "<p>718 rows × 2 columns</p>\n",
       "</div>"
      ],
      "text/plain": [
       "        id  yearly_availability\n",
       "0    19215                    0\n",
       "1    36301                    0\n",
       "2    40566                    1\n",
       "3    33694                    0\n",
       "4    28873                    0\n",
       "..     ...                  ...\n",
       "713  26801                    0\n",
       "714  20110                    0\n",
       "715  31383                    0\n",
       "716  47135                    1\n",
       "717  13154                    1\n",
       "\n",
       "[718 rows x 2 columns]"
      ]
     },
     "execution_count": 81,
     "metadata": {},
     "output_type": "execute_result"
    }
   ],
   "source": [
    "submission_df"
   ]
  },
  {
   "cell_type": "code",
   "execution_count": 85,
   "metadata": {
    "colab": {},
    "colab_type": "code",
    "id": "nBRVPrYbIKTQ"
   },
   "outputs": [],
   "source": [
    "#Submission\n",
    "submission_df.to_csv('submissions.csv',index=False)"
   ]
  },
  {
   "cell_type": "markdown",
   "metadata": {
    "colab_type": "text",
    "id": "H_pB8zTcIKTW"
   },
   "source": [
    "---"
   ]
  }
 ],
 "metadata": {
  "colab": {
   "collapsed_sections": [],
   "name": "Questions.ipynb",
   "provenance": [],
   "version": "0.3.2"
  },
  "kernelspec": {
   "display_name": "Python 3",
   "language": "python",
   "name": "python3"
  },
  "language_info": {
   "codemirror_mode": {
    "name": "ipython",
    "version": 3
   },
   "file_extension": ".py",
   "mimetype": "text/x-python",
   "name": "python",
   "nbconvert_exporter": "python",
   "pygments_lexer": "ipython3",
   "version": "3.7.8"
  },
  "toc": {
   "base_numbering": 1,
   "nav_menu": {},
   "number_sections": true,
   "sideBar": true,
   "skip_h1_title": false,
   "title_cell": "Table of Contents",
   "title_sidebar": "Contents",
   "toc_cell": false,
   "toc_position": {},
   "toc_section_display": true,
   "toc_window_display": false
  }
 },
 "nbformat": 4,
 "nbformat_minor": 4
}
